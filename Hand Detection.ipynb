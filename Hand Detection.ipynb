{
 "cells": [
  {
   "cell_type": "markdown",
   "id": "2fa19142",
   "metadata": {},
   "source": [
    "## Hand Detection Using Mediapipe"
   ]
  },
  {
   "cell_type": "code",
   "execution_count": 1,
   "id": "e2d7e6ea",
   "metadata": {},
   "outputs": [],
   "source": [
    "!pip install mediapipe"
   ]
  },
  {
   "cell_type": "code",
   "execution_count": 2,
   "id": "40679e99",
   "metadata": {},
   "outputs": [],
   "source": [
    "# Import all necessary libraries\n",
    "\n",
    "import cv2\n",
    "import mediapipe as mp"
   ]
  },
  {
   "cell_type": "code",
   "execution_count": 3,
   "id": "59ccfb54",
   "metadata": {},
   "outputs": [],
   "source": [
    "# Identify webcam\n",
    "cap = cv2.VideoCapture(0) #Local webcam - 0, External webcam - 1"
   ]
  },
  {
   "cell_type": "code",
   "execution_count": null,
   "id": "2f708a69",
   "metadata": {},
   "outputs": [],
   "source": [
    "# Switch on the webcam - checking the working status of the webcam\n",
    "\n",
    "while True:\n",
    "    _, img = cap.read()\n",
    "    \n",
    "    cv2.imshow(\"Eddie's Hand Detection\", img)\n",
    "    if cv2.waitKey(1) & 0xff == ord('r'):\n",
    "        break\n",
    "        \n",
    "# Release the capture once all the process is done\n",
    "cap.release()\n",
    "cv2.destroyAllWindows()"
   ]
  },
  {
   "cell_type": "code",
   "execution_count": 4,
   "id": "087c89f7",
   "metadata": {},
   "outputs": [],
   "source": [
    "# Leveraging the Mediapie library used for hand detection\n",
    "\n",
    "mpHands = mp.solutions.hands\n",
    "hands = mpHands.Hands()\n",
    "mpDraw = mp.solutions.drawing_utils"
   ]
  },
  {
   "cell_type": "code",
   "execution_count": 5,
   "id": "9297b1c0",
   "metadata": {},
   "outputs": [],
   "source": [
    "# Switch on the webcam and apply \n",
    "\n",
    "while True:\n",
    "    _, img = cap.read()\n",
    "    \n",
    "    # convert colored frame to black and white\n",
    "    imgRGB = cv2.cvtColor(img, cv2.COLOR_BGR2RGB)\n",
    "    \n",
    "   # Apply mediapie\n",
    "    results = hands.process(imgRGB)\n",
    "    \n",
    "    # print(results.multi_hand_landmarks) - shows landmark and none when nothing is detected\n",
    "    \n",
    "    if results.multi_hand_landmarks:\n",
    "        for handLms in results.multi_hand_landmarks:\n",
    "            for id, lm in enumerate(handLms.landmark):\n",
    "                # print(id, lm) shows landmark and id and doesn't print anything when nothing is detected\n",
    "    \n",
    "                # Draw on the detected hands\n",
    "                mpDraw.draw_landmarks(img, handLms, mpHands.HAND_CONNECTIONS)\n",
    "    \n",
    "    cv2.putText(img, \"Eddie's Hand Detection\", (10, 70), cv2.FONT_HERSHEY_PLAIN, 3, (255,255,255),2)\n",
    "    cv2.imshow(\"Eddie's Hand Detection\", img)\n",
    "    if cv2.waitKey(1) & 0xff == ord('r'):\n",
    "        break\n",
    "        \n",
    "# Release the capture once all the process is done\n",
    "cap.release()\n",
    "cv2.destroyAllWindows()"
   ]
  },
  {
   "cell_type": "code",
   "execution_count": null,
   "id": "2c938cec",
   "metadata": {},
   "outputs": [],
   "source": []
  }
 ],
 "metadata": {
  "kernelspec": {
   "display_name": "Python 3 (ipykernel)",
   "language": "python",
   "name": "python3"
  },
  "language_info": {
   "codemirror_mode": {
    "name": "ipython",
    "version": 3
   },
   "file_extension": ".py",
   "mimetype": "text/x-python",
   "name": "python",
   "nbconvert_exporter": "python",
   "pygments_lexer": "ipython3",
   "version": "3.9.12"
  }
 },
 "nbformat": 4,
 "nbformat_minor": 5
}
